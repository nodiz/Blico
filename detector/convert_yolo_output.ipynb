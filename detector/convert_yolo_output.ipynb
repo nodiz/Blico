{
 "cells": [
  {
   "cell_type": "markdown",
   "metadata": {},
   "source": [
    "### OCI Data Science - Useful Tips\n",
    "Everything stored in the <span style=\"background-color: #d5d8dc \">/home/datascience</span> folder is now stored on your block volume drive. The <span style=\"background-color: #d5d8dc \">ads-examples</span> folder has moved outside of your working space. Notebook examples are now accessible through a Launcher tab \"Notebook Examples\" button.\n",
    "<details>\n",
    "<summary><font size=\"2\">1. Check for Public Internet Access</font></summary>\n",
    "\n",
    "```python\n",
    "import requests\n",
    "response = requests.get(\"https://oracle.com\")\n",
    "assert response.status_code==200, \"Internet connection failed\"\n",
    "```\n",
    "</details>\n",
    "<details>\n",
    "<summary><font size=\"2\">2. OCI Configuration and Key Files Set Up</font></summary><p>Follow the instructions in the getting-started notebook. That notebook is accessible via the \"Getting Started\" Launcher tab button.</p>\n",
    "</details>\n",
    "<details>\n",
    "<summary><font size=\"2\">3. Helpful Documentation </font></summary>\n",
    "<ul><li><a href=\"https://docs.cloud.oracle.com/en-us/iaas/data-science/using/data-science.htm\">Data Science Service Documentation</a></li>\n",
    "<li><a href=\"https://docs.cloud.oracle.com/iaas/tools/ads-sdk/latest/index.html\">ADS documentation</a></li>\n",
    "</ul>\n",
    "</details>\n",
    "<details>\n",
    "<summary><font size=\"2\">4. Typical Cell Imports and Settings</font></summary>\n",
    "\n",
    "```python\n",
    "%load_ext autoreload\n",
    "%autoreload 2\n",
    "%matplotlib inline\n",
    "\n",
    "import warnings\n",
    "warnings.filterwarnings('ignore')\n",
    "\n",
    "import logging\n",
    "logging.basicConfig(format='%(levelname)s:%(message)s', level=logging.ERROR)\n",
    "\n",
    "import ads\n",
    "from ads.dataset.factory import DatasetFactory\n",
    "from ads.automl.provider import OracleAutoMLProvider\n",
    "from ads.automl.driver import AutoML\n",
    "from ads.evaluations.evaluator import ADSEvaluator\n",
    "from ads.common.data import MLData\n",
    "from ads.explanations.explainer import ADSExplainer\n",
    "from ads.explanations.mlx_global_explainer import MLXGlobalExplainer\n",
    "from ads.explanations.mlx_local_explainer import MLXLocalExplainer\n",
    "from ads.catalog.model import ModelCatalog\n",
    "from ads.common.model_artifact import ModelArtifact\n",
    "```\n",
    "</details>\n",
    "<details>\n",
    "<summary><font size=\"2\">5. Useful Environment Variables</font></summary>\n",
    "\n",
    "```python\n",
    "import os\n",
    "print(os.environ[\"NB_SESSION_COMPARTMENT_OCID\"])\n",
    "print(os.environ[\"PROJECT_OCID\"])\n",
    "print(os.environ[\"USER_OCID\"])\n",
    "print(os.environ[\"TENANCY_OCID\"])\n",
    "print(os.environ[\"NB_REGION\"])\n",
    "```\n",
    "</details>"
   ]
  },
  {
   "cell_type": "code",
   "execution_count": 10,
   "metadata": {},
   "outputs": [
    {
     "name": "stdout",
     "output_type": "stream",
     "text": [
      "fonud 183 labels\n",
      "/home/datascience/yolov5/runs/detect/exp5/labels/66a60636-e7bb-40a7-a5a8-dece76bd214e.txt\n"
     ]
    }
   ],
   "source": [
    "from pathlib import Path\n",
    "from glob import glob\n",
    "base_dir = Path(\"/home/datascience/yolov5/runs/detect/exp5/\")\n",
    "labels_dir = base / \"labels\"\n",
    "output_dir = base / \"labels2\"\n",
    "labels = glob(str(labels_dir/'*.txt'))\n",
    "print (\"fonud {} labels\".format(len(labels)))\n",
    "print(labels[0])"
   ]
  },
  {
   "cell_type": "code",
   "execution_count": 48,
   "metadata": {},
   "outputs": [],
   "source": [
    "import imagesize\n",
    "import os\n",
    "images = glob(\"/home/datascience/test/*.png\")\n",
    "\n",
    "im_sizes = {}\n",
    "for im in images: \n",
    "    imName = os.path.basename(im.replace('.png',''))\n",
    "    width, height = imagesize.get(im)\n",
    "    im_sizes[imName] = (width, height)"
   ]
  },
  {
   "cell_type": "code",
   "execution_count": 72,
   "metadata": {},
   "outputs": [],
   "source": [
    "labels_json = [{'id': 1, 'name': 'Türtaster'}, {'id': 2, 'name': 'Türe offen'}, {'id': 3, 'name': 'Türgriff'}, {'id': 4, 'name': 'Türe'}]\n",
    "labels_dict = {(l['id']-1): l['name'] for l in labels_json}\n",
    "\n",
    "\n",
    "def convert_box(b,tName):\n",
    "    b = [float(x) for x in b]\n",
    "    b2 = b.copy()\n",
    "    width, height = im_sizes[tName]\n",
    "    b2[0] = (b[0]-b[2]/2) * width\n",
    "    b2[1] = (b[1]-b[3]/2) * height\n",
    "    b2[2] = (b[0]+b[2]/2) * width\n",
    "    b2[3] = (b[1]+b[3]/2) * height\n",
    "    return [str(int(x)) for x in b2]\n",
    "\n",
    "def convert_annotations(line,tName):\n",
    "    a,*b, c = line.split(' ')\n",
    "    a = labels_dict[int(a)]\n",
    "    b = convert_box(b,tName)\n",
    "    return f'{a} {c} {\" \".join(b)}'\n",
    "\n",
    "for l in labels:\n",
    "    detections = Path(l).read_text()\n",
    "    tName = os.path.basename(l.replace('.txt',''))\n",
    "    out = ''\n",
    "    for line in detections.split('\\n')[:-1]:\n",
    "        out+=convert_annotations(line, tName)\n",
    "        out+='\\n'\n",
    "    with open(output_dir / (tName+'.txt'),'w') as outFile:\n",
    "        outFile.write(out)\n",
    "        outFile.close()"
   ]
  },
  {
   "cell_type": "code",
   "execution_count": 71,
   "metadata": {},
   "outputs": [],
   "source": [
    "!mkdir /home/datascience/yolov5/runs/detect/exp5/labels2/"
   ]
  },
  {
   "cell_type": "code",
   "execution_count": null,
   "metadata": {},
   "outputs": [],
   "source": []
  }
 ],
 "metadata": {
  "kernelspec": {
   "display_name": "Python 3",
   "language": "python",
   "name": "python3"
  },
  "language_info": {
   "codemirror_mode": {
    "name": "ipython",
    "version": 3
   },
   "file_extension": ".py",
   "mimetype": "text/x-python",
   "name": "python",
   "nbconvert_exporter": "python",
   "pygments_lexer": "ipython3",
   "version": "3.6.10"
  }
 },
 "nbformat": 4,
 "nbformat_minor": 4
}
